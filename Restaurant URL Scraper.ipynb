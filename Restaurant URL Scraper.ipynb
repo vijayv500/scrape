{
 "cells": [
  {
   "cell_type": "code",
   "execution_count": 2,
   "metadata": {},
   "outputs": [],
   "source": [
    "import requests\n",
    "from bs4 import BeautifulSoup\n",
    "import pandas as pd\n",
    "import re\n",
    "import os\n",
    "from selenium import webdriver\n",
    "import time\n",
    "from time import sleep\n",
    "from random import randint"
   ]
  },
  {
   "cell_type": "code",
   "execution_count": 3,
   "metadata": {},
   "outputs": [
    {
     "name": "stderr",
     "output_type": "stream",
     "text": [
      "<ipython-input-3-2278743cfb3a>:5: DeprecationWarning: use options instead of chrome_options\n",
      "  wd = webdriver.Chrome(chrome_options=chrome_options)\n"
     ]
    }
   ],
   "source": [
    "chrome_options = webdriver.ChromeOptions()\n",
    "chrome_options.add_argument('--headless')\n",
    "chrome_options.add_argument('--no-sandbox')\n",
    "chrome_options.add_argument('--disable-dev-shm-usage')\n",
    "wd = webdriver.Chrome(chrome_options=chrome_options)"
   ]
  },
  {
   "cell_type": "code",
   "execution_count": 4,
   "metadata": {},
   "outputs": [],
   "source": [
    "url = 'https://food.grab.com/ph/en/restaurants'\n",
    "wd.get(url)\n",
    "\n",
    "count = 0\n",
    "\n",
    "while count < 30:\n",
    "    try:\n",
    "        sleep(randint(3,6))\n",
    "        wd.find_element_by_xpath(\"//button[@class='ant-btn ant-btn-block']\").click()\n",
    "        count = count + 1\n",
    "    except:\n",
    "        pass"
   ]
  },
  {
   "cell_type": "code",
   "execution_count": null,
   "metadata": {},
   "outputs": [],
   "source": [
    "wd.find_element_by_xpath(\"//button[@class='ant-btn ant-btn-block']\").click()"
   ]
  },
  {
   "cell_type": "code",
   "execution_count": 10,
   "metadata": {},
   "outputs": [],
   "source": [
    "name_elements = wd.find_elements_by_xpath(\"//div[@class ='ant-layout']\" and \"//div[@class = 'ant-row-flex RestaurantListRow___1SbZY']\" and \"//div[@class ='ant-col-24 RestaurantListCol___1FZ8V  ant-col-md-12 ant-col-lg-6']\" and \"//h6[@class = 'name___2epcT']\")"
   ]
  },
  {
   "cell_type": "code",
   "execution_count": null,
   "metadata": {},
   "outputs": [],
   "source": [
    "name_elements"
   ]
  },
  {
   "cell_type": "code",
   "execution_count": 12,
   "metadata": {},
   "outputs": [],
   "source": [
    "name_list = []\n",
    "for name_element in name_elements:\n",
    "    name_list.append(name_element.text)"
   ]
  },
  {
   "cell_type": "code",
   "execution_count": 13,
   "metadata": {},
   "outputs": [
    {
     "data": {
      "text/plain": [
       "240"
      ]
     },
     "execution_count": 13,
     "metadata": {},
     "output_type": "execute_result"
    }
   ],
   "source": [
    "len(name_list)"
   ]
  },
  {
   "cell_type": "code",
   "execution_count": 14,
   "metadata": {},
   "outputs": [],
   "source": [
    "df = pd.DataFrame(name_list, columns = ['Restaurant'])"
   ]
  },
  {
   "cell_type": "code",
   "execution_count": 15,
   "metadata": {},
   "outputs": [
    {
     "data": {
      "text/html": [
       "<div>\n",
       "<style scoped>\n",
       "    .dataframe tbody tr th:only-of-type {\n",
       "        vertical-align: middle;\n",
       "    }\n",
       "\n",
       "    .dataframe tbody tr th {\n",
       "        vertical-align: top;\n",
       "    }\n",
       "\n",
       "    .dataframe thead th {\n",
       "        text-align: right;\n",
       "    }\n",
       "</style>\n",
       "<table border=\"1\" class=\"dataframe\">\n",
       "  <thead>\n",
       "    <tr style=\"text-align: right;\">\n",
       "      <th></th>\n",
       "      <th>Restaurant</th>\n",
       "    </tr>\n",
       "  </thead>\n",
       "  <tbody>\n",
       "    <tr>\n",
       "      <th>0</th>\n",
       "      <td>McDonald's - G Tuazon</td>\n",
       "    </tr>\n",
       "    <tr>\n",
       "      <th>1</th>\n",
       "      <td>Burger King - Welcome Rotonda</td>\n",
       "    </tr>\n",
       "    <tr>\n",
       "      <th>2</th>\n",
       "      <td>Jollibee - G. Tuazon-Balic Balic</td>\n",
       "    </tr>\n",
       "    <tr>\n",
       "      <th>3</th>\n",
       "      <td>Wendy's - Dapitan [Available for LONG-DISTANCE...</td>\n",
       "    </tr>\n",
       "    <tr>\n",
       "      <th>4</th>\n",
       "      <td></td>\n",
       "    </tr>\n",
       "    <tr>\n",
       "      <th>...</th>\n",
       "      <td>...</td>\n",
       "    </tr>\n",
       "    <tr>\n",
       "      <th>235</th>\n",
       "      <td>Tapsarap - Loyola Street [Available for LONG-D...</td>\n",
       "    </tr>\n",
       "    <tr>\n",
       "      <th>236</th>\n",
       "      <td>UCC Cafe Terrace - Binondo [Available for LONG...</td>\n",
       "    </tr>\n",
       "    <tr>\n",
       "      <th>237</th>\n",
       "      <td>Tutong's Laksa - Sampaloc [Available for LONG-...</td>\n",
       "    </tr>\n",
       "    <tr>\n",
       "      <th>238</th>\n",
       "      <td>Savory Chicken PH - Masangkay</td>\n",
       "    </tr>\n",
       "    <tr>\n",
       "      <th>239</th>\n",
       "      <td>Pepper Lunch Express Plus - SM Manila [Availab...</td>\n",
       "    </tr>\n",
       "  </tbody>\n",
       "</table>\n",
       "<p>240 rows × 1 columns</p>\n",
       "</div>"
      ],
      "text/plain": [
       "                                            Restaurant\n",
       "0                                McDonald's - G Tuazon\n",
       "1                        Burger King - Welcome Rotonda\n",
       "2                     Jollibee - G. Tuazon-Balic Balic\n",
       "3    Wendy's - Dapitan [Available for LONG-DISTANCE...\n",
       "4                                                     \n",
       "..                                                 ...\n",
       "235  Tapsarap - Loyola Street [Available for LONG-D...\n",
       "236  UCC Cafe Terrace - Binondo [Available for LONG...\n",
       "237  Tutong's Laksa - Sampaloc [Available for LONG-...\n",
       "238                      Savory Chicken PH - Masangkay\n",
       "239  Pepper Lunch Express Plus - SM Manila [Availab...\n",
       "\n",
       "[240 rows x 1 columns]"
      ]
     },
     "execution_count": 15,
     "metadata": {},
     "output_type": "execute_result"
    }
   ],
   "source": [
    "df"
   ]
  },
  {
   "cell_type": "code",
   "execution_count": 16,
   "metadata": {},
   "outputs": [],
   "source": [
    "url_elements = wd.find_elements_by_xpath(\"//a[contains(@href, '/ph/en/restaurant')]\")"
   ]
  },
  {
   "cell_type": "code",
   "execution_count": 17,
   "metadata": {},
   "outputs": [],
   "source": [
    "url_elements_list = []\n",
    "for url_element in url_elements:\n",
    "    url_elements_list.append(url_element.get_attribute(\"href\"))"
   ]
  },
  {
   "cell_type": "code",
   "execution_count": 18,
   "metadata": {},
   "outputs": [],
   "source": [
    "df2 = pd.DataFrame(url_elements_list, columns = ['url'])"
   ]
  },
  {
   "cell_type": "code",
   "execution_count": 19,
   "metadata": {},
   "outputs": [
    {
     "data": {
      "text/html": [
       "<div>\n",
       "<style scoped>\n",
       "    .dataframe tbody tr th:only-of-type {\n",
       "        vertical-align: middle;\n",
       "    }\n",
       "\n",
       "    .dataframe tbody tr th {\n",
       "        vertical-align: top;\n",
       "    }\n",
       "\n",
       "    .dataframe thead th {\n",
       "        text-align: right;\n",
       "    }\n",
       "</style>\n",
       "<table border=\"1\" class=\"dataframe\">\n",
       "  <thead>\n",
       "    <tr style=\"text-align: right;\">\n",
       "      <th></th>\n",
       "      <th>url</th>\n",
       "    </tr>\n",
       "  </thead>\n",
       "  <tbody>\n",
       "    <tr>\n",
       "      <th>0</th>\n",
       "      <td>https://food.grab.com/ph/en/restaurant/mcdonal...</td>\n",
       "    </tr>\n",
       "    <tr>\n",
       "      <th>1</th>\n",
       "      <td>https://food.grab.com/ph/en/restaurant/burger-...</td>\n",
       "    </tr>\n",
       "    <tr>\n",
       "      <th>2</th>\n",
       "      <td>https://food.grab.com/ph/en/restaurant/jollibe...</td>\n",
       "    </tr>\n",
       "    <tr>\n",
       "      <th>3</th>\n",
       "      <td>https://food.grab.com/ph/en/restaurant/wendy-s...</td>\n",
       "    </tr>\n",
       "    <tr>\n",
       "      <th>4</th>\n",
       "      <td>https://food.grab.com/ph/en/restaurant/kfc-nag...</td>\n",
       "    </tr>\n",
       "    <tr>\n",
       "      <th>...</th>\n",
       "      <td>...</td>\n",
       "    </tr>\n",
       "    <tr>\n",
       "      <th>252</th>\n",
       "      <td>https://food.grab.com/ph/en/restaurants?catego...</td>\n",
       "    </tr>\n",
       "    <tr>\n",
       "      <th>253</th>\n",
       "      <td>https://food.grab.com/ph/en/restaurants?catego...</td>\n",
       "    </tr>\n",
       "    <tr>\n",
       "      <th>254</th>\n",
       "      <td>https://food.grab.com/ph/en/restaurants?catego...</td>\n",
       "    </tr>\n",
       "    <tr>\n",
       "      <th>255</th>\n",
       "      <td>https://food.grab.com/ph/en/restaurants?catego...</td>\n",
       "    </tr>\n",
       "    <tr>\n",
       "      <th>256</th>\n",
       "      <td>https://food.grab.com/ph/en/restaurants?catego...</td>\n",
       "    </tr>\n",
       "  </tbody>\n",
       "</table>\n",
       "<p>257 rows × 1 columns</p>\n",
       "</div>"
      ],
      "text/plain": [
       "                                                   url\n",
       "0    https://food.grab.com/ph/en/restaurant/mcdonal...\n",
       "1    https://food.grab.com/ph/en/restaurant/burger-...\n",
       "2    https://food.grab.com/ph/en/restaurant/jollibe...\n",
       "3    https://food.grab.com/ph/en/restaurant/wendy-s...\n",
       "4    https://food.grab.com/ph/en/restaurant/kfc-nag...\n",
       "..                                                 ...\n",
       "252  https://food.grab.com/ph/en/restaurants?catego...\n",
       "253  https://food.grab.com/ph/en/restaurants?catego...\n",
       "254  https://food.grab.com/ph/en/restaurants?catego...\n",
       "255  https://food.grab.com/ph/en/restaurants?catego...\n",
       "256  https://food.grab.com/ph/en/restaurants?catego...\n",
       "\n",
       "[257 rows x 1 columns]"
      ]
     },
     "execution_count": 19,
     "metadata": {},
     "output_type": "execute_result"
    }
   ],
   "source": [
    "df2\n"
   ]
  },
  {
   "cell_type": "code",
   "execution_count": 20,
   "metadata": {},
   "outputs": [],
   "source": [
    "df = pd.concat([df, df2], axis=1, join='inner')"
   ]
  },
  {
   "cell_type": "code",
   "execution_count": 21,
   "metadata": {},
   "outputs": [
    {
     "data": {
      "text/html": [
       "<div>\n",
       "<style scoped>\n",
       "    .dataframe tbody tr th:only-of-type {\n",
       "        vertical-align: middle;\n",
       "    }\n",
       "\n",
       "    .dataframe tbody tr th {\n",
       "        vertical-align: top;\n",
       "    }\n",
       "\n",
       "    .dataframe thead th {\n",
       "        text-align: right;\n",
       "    }\n",
       "</style>\n",
       "<table border=\"1\" class=\"dataframe\">\n",
       "  <thead>\n",
       "    <tr style=\"text-align: right;\">\n",
       "      <th></th>\n",
       "      <th>Restaurant</th>\n",
       "      <th>url</th>\n",
       "    </tr>\n",
       "  </thead>\n",
       "  <tbody>\n",
       "    <tr>\n",
       "      <th>0</th>\n",
       "      <td>McDonald's - G Tuazon</td>\n",
       "      <td>https://food.grab.com/ph/en/restaurant/mcdonal...</td>\n",
       "    </tr>\n",
       "    <tr>\n",
       "      <th>1</th>\n",
       "      <td>Burger King - Welcome Rotonda</td>\n",
       "      <td>https://food.grab.com/ph/en/restaurant/burger-...</td>\n",
       "    </tr>\n",
       "    <tr>\n",
       "      <th>2</th>\n",
       "      <td>Jollibee - G. Tuazon-Balic Balic</td>\n",
       "      <td>https://food.grab.com/ph/en/restaurant/jollibe...</td>\n",
       "    </tr>\n",
       "    <tr>\n",
       "      <th>3</th>\n",
       "      <td>Wendy's - Dapitan [Available for LONG-DISTANCE...</td>\n",
       "      <td>https://food.grab.com/ph/en/restaurant/wendy-s...</td>\n",
       "    </tr>\n",
       "    <tr>\n",
       "      <th>4</th>\n",
       "      <td></td>\n",
       "      <td>https://food.grab.com/ph/en/restaurant/kfc-nag...</td>\n",
       "    </tr>\n",
       "    <tr>\n",
       "      <th>...</th>\n",
       "      <td>...</td>\n",
       "      <td>...</td>\n",
       "    </tr>\n",
       "    <tr>\n",
       "      <th>235</th>\n",
       "      <td>Tapsarap - Loyola Street [Available for LONG-D...</td>\n",
       "      <td>https://food.grab.com/ph/en/restaurant/tapsara...</td>\n",
       "    </tr>\n",
       "    <tr>\n",
       "      <th>236</th>\n",
       "      <td>UCC Cafe Terrace - Binondo [Available for LONG...</td>\n",
       "      <td>https://food.grab.com/ph/en/restaurant/ucc-caf...</td>\n",
       "    </tr>\n",
       "    <tr>\n",
       "      <th>237</th>\n",
       "      <td>Tutong's Laksa - Sampaloc [Available for LONG-...</td>\n",
       "      <td>https://food.grab.com/ph/en/restaurant/tutong-...</td>\n",
       "    </tr>\n",
       "    <tr>\n",
       "      <th>238</th>\n",
       "      <td>Savory Chicken PH - Masangkay</td>\n",
       "      <td>https://food.grab.com/ph/en/restaurant/savory-...</td>\n",
       "    </tr>\n",
       "    <tr>\n",
       "      <th>239</th>\n",
       "      <td>Pepper Lunch Express Plus - SM Manila [Availab...</td>\n",
       "      <td>https://food.grab.com/ph/en/restaurant/pepper-...</td>\n",
       "    </tr>\n",
       "  </tbody>\n",
       "</table>\n",
       "<p>240 rows × 2 columns</p>\n",
       "</div>"
      ],
      "text/plain": [
       "                                            Restaurant  \\\n",
       "0                                McDonald's - G Tuazon   \n",
       "1                        Burger King - Welcome Rotonda   \n",
       "2                     Jollibee - G. Tuazon-Balic Balic   \n",
       "3    Wendy's - Dapitan [Available for LONG-DISTANCE...   \n",
       "4                                                        \n",
       "..                                                 ...   \n",
       "235  Tapsarap - Loyola Street [Available for LONG-D...   \n",
       "236  UCC Cafe Terrace - Binondo [Available for LONG...   \n",
       "237  Tutong's Laksa - Sampaloc [Available for LONG-...   \n",
       "238                      Savory Chicken PH - Masangkay   \n",
       "239  Pepper Lunch Express Plus - SM Manila [Availab...   \n",
       "\n",
       "                                                   url  \n",
       "0    https://food.grab.com/ph/en/restaurant/mcdonal...  \n",
       "1    https://food.grab.com/ph/en/restaurant/burger-...  \n",
       "2    https://food.grab.com/ph/en/restaurant/jollibe...  \n",
       "3    https://food.grab.com/ph/en/restaurant/wendy-s...  \n",
       "4    https://food.grab.com/ph/en/restaurant/kfc-nag...  \n",
       "..                                                 ...  \n",
       "235  https://food.grab.com/ph/en/restaurant/tapsara...  \n",
       "236  https://food.grab.com/ph/en/restaurant/ucc-caf...  \n",
       "237  https://food.grab.com/ph/en/restaurant/tutong-...  \n",
       "238  https://food.grab.com/ph/en/restaurant/savory-...  \n",
       "239  https://food.grab.com/ph/en/restaurant/pepper-...  \n",
       "\n",
       "[240 rows x 2 columns]"
      ]
     },
     "execution_count": 21,
     "metadata": {},
     "output_type": "execute_result"
    }
   ],
   "source": [
    "df"
   ]
  },
  {
   "cell_type": "code",
   "execution_count": 22,
   "metadata": {},
   "outputs": [],
   "source": [
    "df.to_csv('manila_restaurants.csv', index=False)"
   ]
  },
  {
   "cell_type": "code",
   "execution_count": null,
   "metadata": {},
   "outputs": [],
   "source": [
    " \n",
    "i = 1\n",
    "\n",
    "for index, row in df.iterrows():\n",
    "    print(row)\n",
    "    url = row[1]\n",
    "    print(url)\n",
    "    page = requests.get(url)\n",
    "    \n",
    "     page = BeautifulSoup(page.text, 'html.parser')\n",
    "    \n",
    "     sleep(randint(3,5))\n",
    "\n",
    "    i = i + 1\n",
    "\n",
    "    if i == 100:\n",
    "        break\n"
   ]
  },
  {
   "cell_type": "code",
   "execution_count": 38,
   "metadata": {},
   "outputs": [],
   "source": [
    "result = page.prettify().splitlines()"
   ]
  },
  {
   "cell_type": "code",
   "execution_count": 39,
   "metadata": {},
   "outputs": [
    {
     "name": "stdout",
     "output_type": "stream",
     "text": [
      "<!DOCTYPE HTML PUBLIC \"-//W3C//DTD HTML 4.01 Transitional//EN\" \"http://www.w3.org/TR/html4/loose.dtd\">\n",
      "<html>\n",
      " <head>\n",
      "  <meta content=\"text/html; charset=utf-8\" http-equiv=\"Content-Type\"/>\n",
      "  <title>\n",
      "   ERROR: The request could not be satisfied\n",
      "  </title>\n",
      " </head>\n",
      " <body>\n",
      "  <h1>\n"
     ]
    }
   ],
   "source": [
    "print('\\n'.join(result[:10]))"
   ]
  },
  {
   "cell_type": "code",
   "execution_count": 51,
   "metadata": {},
   "outputs": [],
   "source": [
    "test_text = page.text.find('latlng\":{')"
   ]
  },
  {
   "cell_type": "code",
   "execution_count": 52,
   "metadata": {},
   "outputs": [],
   "source": [
    "restaurant_latitude = page.text[test_text+20:test_text+30]"
   ]
  },
  {
   "cell_type": "code",
   "execution_count": 53,
   "metadata": {},
   "outputs": [],
   "source": [
    "restaurant_longitude = page.text[test_text+43:test_text+54]"
   ]
  },
  {
   "cell_type": "code",
   "execution_count": 54,
   "metadata": {},
   "outputs": [
    {
     "name": "stdout",
     "output_type": "stream",
     "text": [
      "t could no\n",
      "d\n",
      "\n",
      "403 ERRO\n"
     ]
    }
   ],
   "source": [
    "print(restaurant_latitude)\n",
    "print(restaurant_longitude)"
   ]
  },
  {
   "cell_type": "code",
   "execution_count": null,
   "metadata": {},
   "outputs": [],
   "source": []
  }
 ],
 "metadata": {
  "kernelspec": {
   "display_name": "Python 3",
   "language": "python",
   "name": "python3"
  },
  "language_info": {
   "codemirror_mode": {
    "name": "ipython",
    "version": 3
   },
   "file_extension": ".py",
   "mimetype": "text/x-python",
   "name": "python",
   "nbconvert_exporter": "python",
   "pygments_lexer": "ipython3",
   "version": "3.8.5"
  }
 },
 "nbformat": 4,
 "nbformat_minor": 4
}
